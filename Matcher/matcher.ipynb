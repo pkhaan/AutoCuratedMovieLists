{
 "cells": [
  {
   "cell_type": "markdown",
   "metadata": {},
   "source": [
    "# Match the CSV titles in order to eradicate any duplicate values and to narrow down our dataset"
   ]
  },
  {
   "cell_type": "code",
   "execution_count": null,
   "metadata": {},
   "outputs": [],
   "source": [
    "import pandas as pd\n",
    "from fuzzywuzzy import fuzz\n",
    "from fuzzywuzzy import process\n",
    "\n",
    "# Replace these filenames with the actual paths to your CSV files\n",
    "csv_file1 = 'ScrapedCSVs/top_100_movies.csv'\n",
    "csv_file2 = 'ScrapeLOC/movies.csv'\n",
    "csv_file3 = 'ScrapeRottenTomatoes/moviesRT.csv'\n",
    "\n",
    "# Read each CSV into separate DataFrames\n",
    "df1 = pd.read_csv(csv_file1)\n",
    "df2 = pd.read_csv(csv_file2)\n",
    "df3 = pd.read_csv(csv_file3)\n",
    "\n",
    "# Function to find fuzzy matches using FuzzyWuzzy\n",
    "def fuzzy_match(movie_title, titles_list):\n",
    "    return process.extractOne(movie_title, titles_list)[0]\n",
    "\n",
    "# Get a list of all movie titles in all three DataFrames\n",
    "all_movie_titles = df1['Title'].tolist() + df2['Title'].tolist() + df3['Title'].tolist()\n",
    "\n",
    "# Find fuzzy matches for each DataFrame\n",
    "df1['Matched_Title'] = df1['Title'].apply(fuzzy_match, args=(all_movie_titles,))\n",
    "df2['Matched_Title'] = df2['Title'].apply(fuzzy_match, args=(all_movie_titles,))\n",
    "df3['Matched_Title'] = df3['Title'].apply(fuzzy_match, args=(all_movie_titles,))\n",
    "\n",
    "# Concatenate the DataFrames based on fuzzy matches\n",
    "combined_df = pd.concat([df1, df2, df3], ignore_index=True)\n",
    "\n",
    "# Write the combined DataFrame to a new CSV file\n",
    "output_csv = 'combined_movies_fuzzy.csv'\n",
    "combined_df.to_csv(output_csv, index=False)\n",
    "\n",
    "print(f\"Fuzzy data matching completed. The combined data is saved to {output_csv}.\")"
   ]
  },
  {
   "cell_type": "code",
   "execution_count": null,
   "metadata": {},
   "outputs": [],
   "source": [
    "import pandas as pd\n",
    "from fuzzywuzzy import fuzz\n",
    "from fuzzywuzzy import process\n",
    "\n",
    "# Replace these filenames with the actual paths to your CSV files\n",
    "csv_file1 = 'ScrapedCSVs/top_100_movies.csv'\n",
    "csv_file2 = 'ScrapeLOC/movies.csv'\n",
    "csv_file3 = 'ScrapeRottenTomatoes/moviesRT.csv'\n",
    "\n",
    "# Read each CSV into separate DataFrames\n",
    "df1 = pd.read_csv(csv_file1)\n",
    "df2 = pd.read_csv(csv_file2)\n",
    "df3 = pd.read_csv(csv_file3)\n",
    "\n",
    "# Function to find fuzzy matches using Jaccard similarity\n",
    "def fuzzy_match_jaccard(movie_title, titles_list):\n",
    "    return process.extractOne(movie_title, titles_list, scorer=fuzz.token_sort_ratio)[0]\n",
    "\n",
    "# Get a list of all movie titles in all three DataFrames\n",
    "all_movie_titles = df1['Title'].tolist() + df2['Title'].tolist() + df3['Title'].tolist()\n",
    "\n",
    "# Find fuzzy matches for each DataFrame\n",
    "df1['Matched_Title'] = df1['Title'].apply(fuzzy_match_jaccard, args=(all_movie_titles,))\n",
    "df2['Matched_Title'] = df2['Title'].apply(fuzzy_match_jaccard, args=(all_movie_titles,))\n",
    "df3['Matched_Title'] = df3['Title'].apply(fuzzy_match_jaccard, args=(all_movie_titles,))\n",
    "\n",
    "# Concatenate the DataFrames based on fuzzy matches\n",
    "combined_df = pd.concat([df1, df2, df3], ignore_index=True)\n",
    "\n",
    "# Write the combined DataFrame to a new CSV file\n",
    "output_csv = 'combined_movies_jaccard.csv'\n",
    "combined_df.to_csv(output_csv, index=False)\n",
    "\n",
    "print(f\"Jaccard similarity matching completed. The combined data is saved to {output_csv}.\")"
   ]
  }
 ],
 "metadata": {
  "kernelspec": {
   "display_name": "Python 3",
   "language": "python",
   "name": "python3"
  },
  "language_info": {
   "codemirror_mode": {
    "name": "ipython",
    "version": 3
   },
   "file_extension": ".py",
   "mimetype": "text/x-python",
   "name": "python",
   "nbconvert_exporter": "python",
   "pygments_lexer": "ipython3",
   "version": "3.11.3"
  },
  "orig_nbformat": 4
 },
 "nbformat": 4,
 "nbformat_minor": 2
}
