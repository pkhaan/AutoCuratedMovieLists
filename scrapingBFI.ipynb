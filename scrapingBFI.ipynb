{
 "cells": [
  {
   "cell_type": "code",
   "execution_count": 1,
   "metadata": {},
   "outputs": [],
   "source": [
    "from bs4 import BeautifulSoup\n",
    "import requests"
   ]
  },
  {
   "cell_type": "code",
   "execution_count": 6,
   "metadata": {},
   "outputs": [
    {
     "name": "stdout",
     "output_type": "stream",
     "text": [
      "Unable to extract movie information for: Below is a straightforward listing of the 1,000 Greatest Films in ascending ranking order. The number in brackets is the position each film held in last year's edition (2022).\n",
      "\n"
     ]
    },
    {
     "ename": "TypeError",
     "evalue": "'NoneType' object is not callable",
     "output_type": "error",
     "traceback": [
      "\u001b[1;31m---------------------------------------------------------------------------\u001b[0m",
      "\u001b[1;31mTypeError\u001b[0m                                 Traceback (most recent call last)",
      "Cell \u001b[1;32mIn[6], line 7\u001b[0m\n\u001b[0;32m      5\u001b[0m \u001b[39mfor\u001b[39;00m movie \u001b[39min\u001b[39;00m movies:\n\u001b[0;32m      6\u001b[0m     \u001b[39mif\u001b[39;00m movie\u001b[39m.\u001b[39mprevious_sibling \u001b[39mis\u001b[39;00m \u001b[39mnot\u001b[39;00m \u001b[39mNone\u001b[39;00m:\n\u001b[1;32m----> 7\u001b[0m         movie_info \u001b[39m=\u001b[39m movie\u001b[39m.\u001b[39;49mprevious_sibling\u001b[39m.\u001b[39;49mstrip()\n\u001b[0;32m      9\u001b[0m         \u001b[39mtry\u001b[39;00m:\n\u001b[0;32m     10\u001b[0m             movie_title, movie_director_year \u001b[39m=\u001b[39m movie_info\u001b[39m.\u001b[39mrsplit(\u001b[39m'\u001b[39m\u001b[39m(\u001b[39m\u001b[39m'\u001b[39m, \u001b[39m1\u001b[39m)\n",
      "\u001b[1;31mTypeError\u001b[0m: 'NoneType' object is not callable"
     ]
    }
   ],
   "source": [
    "r = requests.get(\"https://www.theyshootpictures.com/gf1000_all1000films.htm\")\n",
    "soup = BeautifulSoup(r.text, 'html.parser')\n",
    "movies = soup.find_all('br')  # Find all <br> tags that separate the movies\n",
    "\n",
    "for movie in movies:\n",
    "    if movie.previous_sibling is not None:\n",
    "        movie_info = movie.previous_sibling.strip()\n",
    "\n",
    "        try:\n",
    "            movie_title, movie_director_year = movie_info.rsplit('(', 1)\n",
    "            movie_director, movie_year = movie_director_year.strip(')').rsplit(',', 1)\n",
    "\n",
    "            print(\"Title:\", movie_title.strip())\n",
    "            print(\"Director:\", movie_director.strip())\n",
    "            print(\"Year:\", movie_year.strip())\n",
    "            print()\n",
    "\n",
    "        except ValueError:\n",
    "            print(\"Unable to extract movie information for:\", movie_info)\n",
    "            print()\n",
    "    else:\n",
    "        print(\"No previous sibling found for:\", movie)\n",
    "        print()"
   ]
  }
 ],
 "metadata": {
  "kernelspec": {
   "display_name": "Python 3",
   "language": "python",
   "name": "python3"
  },
  "language_info": {
   "codemirror_mode": {
    "name": "ipython",
    "version": 3
   },
   "file_extension": ".py",
   "mimetype": "text/x-python",
   "name": "python",
   "nbconvert_exporter": "python",
   "pygments_lexer": "ipython3",
   "version": "3.11.3"
  },
  "orig_nbformat": 4
 },
 "nbformat": 4,
 "nbformat_minor": 2
}
